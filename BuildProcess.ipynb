{
 "cells": [
  {
   "cell_type": "code",
   "execution_count": 41,
   "id": "f62ad57a",
   "metadata": {},
   "outputs": [],
   "source": [
    "import pandas as pd\n",
    "from sklearn.model_selection import train_test_split"
   ]
  },
  {
   "cell_type": "code",
   "execution_count": 42,
   "id": "97de3597",
   "metadata": {},
   "outputs": [
    {
     "data": {
      "text/html": [
       "<div>\n",
       "<style scoped>\n",
       "    .dataframe tbody tr th:only-of-type {\n",
       "        vertical-align: middle;\n",
       "    }\n",
       "\n",
       "    .dataframe tbody tr th {\n",
       "        vertical-align: top;\n",
       "    }\n",
       "\n",
       "    .dataframe thead th {\n",
       "        text-align: right;\n",
       "    }\n",
       "</style>\n",
       "<table border=\"1\" class=\"dataframe\">\n",
       "  <thead>\n",
       "    <tr style=\"text-align: right;\">\n",
       "      <th></th>\n",
       "      <th>X000</th>\n",
       "      <th>X001</th>\n",
       "      <th>X002</th>\n",
       "      <th>X003</th>\n",
       "      <th>X004</th>\n",
       "      <th>X005</th>\n",
       "      <th>X006</th>\n",
       "      <th>X007</th>\n",
       "      <th>X008</th>\n",
       "      <th>X009</th>\n",
       "      <th>...</th>\n",
       "      <th>X384</th>\n",
       "      <th>X385</th>\n",
       "      <th>X386</th>\n",
       "      <th>X387</th>\n",
       "      <th>X388</th>\n",
       "      <th>X389</th>\n",
       "      <th>X390</th>\n",
       "      <th>X391</th>\n",
       "      <th>X392</th>\n",
       "      <th>Y</th>\n",
       "    </tr>\n",
       "  </thead>\n",
       "  <tbody>\n",
       "    <tr>\n",
       "      <th>0</th>\n",
       "      <td>0.435294</td>\n",
       "      <td>0.568627</td>\n",
       "      <td>0.470588</td>\n",
       "      <td>0.239216</td>\n",
       "      <td>0.062745</td>\n",
       "      <td>0.003922</td>\n",
       "      <td>0.000000</td>\n",
       "      <td>0.000000</td>\n",
       "      <td>0.133333</td>\n",
       "      <td>0.321569</td>\n",
       "      <td>...</td>\n",
       "      <td>0.694118</td>\n",
       "      <td>0.000000</td>\n",
       "      <td>0.000000</td>\n",
       "      <td>0.000000</td>\n",
       "      <td>0.000000</td>\n",
       "      <td>0.000000</td>\n",
       "      <td>0.054902</td>\n",
       "      <td>0.243137</td>\n",
       "      <td>0.537255</td>\n",
       "      <td>5</td>\n",
       "    </tr>\n",
       "    <tr>\n",
       "      <th>1</th>\n",
       "      <td>0.290196</td>\n",
       "      <td>0.192157</td>\n",
       "      <td>0.098039</td>\n",
       "      <td>0.039216</td>\n",
       "      <td>0.011765</td>\n",
       "      <td>0.000000</td>\n",
       "      <td>0.000000</td>\n",
       "      <td>0.000000</td>\n",
       "      <td>0.482353</td>\n",
       "      <td>0.627451</td>\n",
       "      <td>...</td>\n",
       "      <td>0.278431</td>\n",
       "      <td>0.007843</td>\n",
       "      <td>0.019608</td>\n",
       "      <td>0.035294</td>\n",
       "      <td>0.054902</td>\n",
       "      <td>0.082353</td>\n",
       "      <td>0.133333</td>\n",
       "      <td>0.141176</td>\n",
       "      <td>0.098039</td>\n",
       "      <td>0</td>\n",
       "    </tr>\n",
       "    <tr>\n",
       "      <th>2</th>\n",
       "      <td>0.000000</td>\n",
       "      <td>0.000000</td>\n",
       "      <td>0.000000</td>\n",
       "      <td>0.000000</td>\n",
       "      <td>0.003922</td>\n",
       "      <td>0.027451</td>\n",
       "      <td>0.082353</td>\n",
       "      <td>0.184314</td>\n",
       "      <td>0.000000</td>\n",
       "      <td>0.000000</td>\n",
       "      <td>...</td>\n",
       "      <td>0.380392</td>\n",
       "      <td>0.007843</td>\n",
       "      <td>0.050980</td>\n",
       "      <td>0.164706</td>\n",
       "      <td>0.301961</td>\n",
       "      <td>0.400000</td>\n",
       "      <td>0.443137</td>\n",
       "      <td>0.415686</td>\n",
       "      <td>0.360784</td>\n",
       "      <td>4</td>\n",
       "    </tr>\n",
       "    <tr>\n",
       "      <th>3</th>\n",
       "      <td>0.745098</td>\n",
       "      <td>0.952941</td>\n",
       "      <td>0.870588</td>\n",
       "      <td>0.329412</td>\n",
       "      <td>0.035294</td>\n",
       "      <td>0.000000</td>\n",
       "      <td>0.000000</td>\n",
       "      <td>0.000000</td>\n",
       "      <td>0.000000</td>\n",
       "      <td>0.058824</td>\n",
       "      <td>...</td>\n",
       "      <td>0.000000</td>\n",
       "      <td>0.015686</td>\n",
       "      <td>0.211765</td>\n",
       "      <td>0.341176</td>\n",
       "      <td>0.800000</td>\n",
       "      <td>0.101961</td>\n",
       "      <td>0.000000</td>\n",
       "      <td>0.000000</td>\n",
       "      <td>0.000000</td>\n",
       "      <td>1</td>\n",
       "    </tr>\n",
       "    <tr>\n",
       "      <th>4</th>\n",
       "      <td>0.000000</td>\n",
       "      <td>0.000000</td>\n",
       "      <td>0.000000</td>\n",
       "      <td>0.000000</td>\n",
       "      <td>0.000000</td>\n",
       "      <td>0.000000</td>\n",
       "      <td>0.000000</td>\n",
       "      <td>0.000000</td>\n",
       "      <td>0.000000</td>\n",
       "      <td>0.000000</td>\n",
       "      <td>...</td>\n",
       "      <td>0.000000</td>\n",
       "      <td>0.000000</td>\n",
       "      <td>0.000000</td>\n",
       "      <td>0.000000</td>\n",
       "      <td>0.000000</td>\n",
       "      <td>0.000000</td>\n",
       "      <td>0.000000</td>\n",
       "      <td>0.000000</td>\n",
       "      <td>0.000000</td>\n",
       "      <td>9</td>\n",
       "    </tr>\n",
       "  </tbody>\n",
       "</table>\n",
       "<p>5 rows × 394 columns</p>\n",
       "</div>"
      ],
      "text/plain": [
       "       X000      X001      X002      X003      X004      X005      X006  \\\n",
       "0  0.435294  0.568627  0.470588  0.239216  0.062745  0.003922  0.000000   \n",
       "1  0.290196  0.192157  0.098039  0.039216  0.011765  0.000000  0.000000   \n",
       "2  0.000000  0.000000  0.000000  0.000000  0.003922  0.027451  0.082353   \n",
       "3  0.745098  0.952941  0.870588  0.329412  0.035294  0.000000  0.000000   \n",
       "4  0.000000  0.000000  0.000000  0.000000  0.000000  0.000000  0.000000   \n",
       "\n",
       "       X007      X008      X009  ...      X384      X385      X386      X387  \\\n",
       "0  0.000000  0.133333  0.321569  ...  0.694118  0.000000  0.000000  0.000000   \n",
       "1  0.000000  0.482353  0.627451  ...  0.278431  0.007843  0.019608  0.035294   \n",
       "2  0.184314  0.000000  0.000000  ...  0.380392  0.007843  0.050980  0.164706   \n",
       "3  0.000000  0.000000  0.058824  ...  0.000000  0.015686  0.211765  0.341176   \n",
       "4  0.000000  0.000000  0.000000  ...  0.000000  0.000000  0.000000  0.000000   \n",
       "\n",
       "       X388      X389      X390      X391      X392  Y  \n",
       "0  0.000000  0.000000  0.054902  0.243137  0.537255  5  \n",
       "1  0.054902  0.082353  0.133333  0.141176  0.098039  0  \n",
       "2  0.301961  0.400000  0.443137  0.415686  0.360784  4  \n",
       "3  0.800000  0.101961  0.000000  0.000000  0.000000  1  \n",
       "4  0.000000  0.000000  0.000000  0.000000  0.000000  9  \n",
       "\n",
       "[5 rows x 394 columns]"
      ]
     },
     "execution_count": 42,
     "metadata": {},
     "output_type": "execute_result"
    }
   ],
   "source": [
    "train = pd.read_csv('data/train.csv')\n",
    "train.head()"
   ]
  },
  {
   "cell_type": "code",
   "execution_count": 76,
   "id": "27a6ce66",
   "metadata": {},
   "outputs": [],
   "source": [
    "from keras.models import Sequential\n",
    "from keras.layers import Dense\n",
    "from keras.utils import to_categorical"
   ]
  },
  {
   "cell_type": "code",
   "execution_count": 59,
   "id": "a57abafd",
   "metadata": {},
   "outputs": [
    {
     "data": {
      "text/plain": [
       "array([[0.43529412, 0.5686275 , 0.47058824, ..., 0.05490196, 0.24313726,\n",
       "        0.5372549 ],\n",
       "       [0.2901961 , 0.19215687, 0.09803922, ..., 0.13333334, 0.14117648,\n",
       "        0.09803922],\n",
       "       [0.        , 0.        , 0.        , ..., 0.44313726, 0.41568628,\n",
       "        0.36078432],\n",
       "       ...,\n",
       "       [0.        , 0.        , 0.        , ..., 0.        , 0.        ,\n",
       "        0.        ],\n",
       "       [0.        , 0.        , 0.        , ..., 0.        , 0.        ,\n",
       "        0.        ],\n",
       "       [0.        , 0.        , 0.        , ..., 0.        , 0.        ,\n",
       "        0.        ]])"
      ]
     },
     "execution_count": 59,
     "metadata": {},
     "output_type": "execute_result"
    }
   ],
   "source": [
    "X = train.drop('Y', axis=1).values\n",
    "X = X / X.max(axis=0)\n",
    "X"
   ]
  },
  {
   "cell_type": "code",
   "execution_count": 77,
   "id": "94f29b56",
   "metadata": {},
   "outputs": [
    {
     "data": {
      "text/plain": [
       "array([[0., 0., 0., ..., 0., 0., 0.],\n",
       "       [1., 0., 0., ..., 0., 0., 0.],\n",
       "       [0., 0., 0., ..., 0., 0., 0.],\n",
       "       ...,\n",
       "       [0., 0., 0., ..., 0., 0., 0.],\n",
       "       [0., 0., 0., ..., 1., 0., 0.],\n",
       "       [0., 1., 0., ..., 0., 0., 0.]], dtype=float32)"
      ]
     },
     "execution_count": 77,
     "metadata": {},
     "output_type": "execute_result"
    }
   ],
   "source": [
    "Y = train['Y'].values\n",
    "Y = to_categorical(Y)\n",
    "Y"
   ]
  },
  {
   "cell_type": "code",
   "execution_count": 78,
   "id": "cbca8007",
   "metadata": {},
   "outputs": [],
   "source": [
    "X_train, X_val, Y_train, Y_val = train_test_split(X, Y, test_size=0.2, shuffle=True)"
   ]
  },
  {
   "cell_type": "code",
   "execution_count": 79,
   "id": "8e6e9978",
   "metadata": {},
   "outputs": [
    {
     "data": {
      "text/plain": [
       "array([[0.04313726, 0.12941177, 0.21568628, ..., 0.01176471, 0.        ,\n",
       "        0.        ],\n",
       "       [0.        , 0.        , 0.        , ..., 0.23921569, 0.4745098 ,\n",
       "        0.5372549 ],\n",
       "       [0.        , 0.        , 0.        , ..., 0.        , 0.        ,\n",
       "        0.        ],\n",
       "       ...,\n",
       "       [0.        , 0.01568627, 0.03529412, ..., 0.        , 0.        ,\n",
       "        0.        ],\n",
       "       [0.        , 0.        , 0.        , ..., 0.        , 0.        ,\n",
       "        0.        ],\n",
       "       [0.04705882, 0.        , 0.        , ..., 0.        , 0.        ,\n",
       "        0.        ]])"
      ]
     },
     "execution_count": 79,
     "metadata": {},
     "output_type": "execute_result"
    }
   ],
   "source": [
    "X_train"
   ]
  },
  {
   "cell_type": "code",
   "execution_count": 80,
   "id": "7c7ecd10",
   "metadata": {},
   "outputs": [
    {
     "data": {
      "text/plain": [
       "array([[0., 0., 0., ..., 0., 0., 0.],\n",
       "       [0., 0., 0., ..., 1., 0., 0.],\n",
       "       [0., 0., 0., ..., 0., 0., 0.],\n",
       "       ...,\n",
       "       [0., 0., 0., ..., 0., 0., 0.],\n",
       "       [1., 0., 0., ..., 0., 0., 0.],\n",
       "       [0., 0., 0., ..., 0., 0., 1.]], dtype=float32)"
      ]
     },
     "execution_count": 80,
     "metadata": {},
     "output_type": "execute_result"
    }
   ],
   "source": [
    "Y_train"
   ]
  },
  {
   "cell_type": "code",
   "execution_count": 81,
   "id": "2b72780e",
   "metadata": {},
   "outputs": [
    {
     "data": {
      "text/plain": [
       "array([[0.        , 0.        , 0.        , ..., 0.        , 0.        ,\n",
       "        0.        ],\n",
       "       [0.24705882, 0.29411766, 0.31764707, ..., 0.22745098, 0.25882354,\n",
       "        0.2509804 ],\n",
       "       [0.01568627, 0.01176471, 0.00784314, ..., 0.03529412, 0.09019608,\n",
       "        0.14117648],\n",
       "       ...,\n",
       "       [0.        , 0.        , 0.        , ..., 0.        , 0.        ,\n",
       "        0.        ],\n",
       "       [0.11764706, 0.21568628, 0.31764707, ..., 0.65882355, 0.72156864,\n",
       "        0.58431375],\n",
       "       [0.        , 0.        , 0.        , ..., 0.        , 0.        ,\n",
       "        0.        ]])"
      ]
     },
     "execution_count": 81,
     "metadata": {},
     "output_type": "execute_result"
    }
   ],
   "source": [
    "X_val"
   ]
  },
  {
   "cell_type": "code",
   "execution_count": 82,
   "id": "0d8dc414",
   "metadata": {},
   "outputs": [
    {
     "data": {
      "text/plain": [
       "array([[0., 0., 0., ..., 0., 0., 1.],\n",
       "       [1., 0., 0., ..., 0., 0., 0.],\n",
       "       [0., 1., 0., ..., 0., 0., 0.],\n",
       "       ...,\n",
       "       [0., 0., 1., ..., 0., 0., 0.],\n",
       "       [0., 0., 0., ..., 0., 0., 0.],\n",
       "       [0., 0., 0., ..., 0., 0., 0.]], dtype=float32)"
      ]
     },
     "execution_count": 82,
     "metadata": {},
     "output_type": "execute_result"
    }
   ],
   "source": [
    "Y_val"
   ]
  },
  {
   "cell_type": "code",
   "execution_count": 83,
   "id": "56025fbb",
   "metadata": {},
   "outputs": [],
   "source": [
    "def build_sequential_model(nodes, activations, input_size):\n",
    "    model = Sequential()\n",
    "    model.add(Dense(nodes[0], input_dim=input_size, activation=activations[0]))\n",
    "    for i in range(1, len(nodes)):\n",
    "        model.add(Dense(nodes[i], activation=activations[i]))\n",
    "    return model"
   ]
  },
  {
   "cell_type": "code",
   "execution_count": 91,
   "id": "b884f02b",
   "metadata": {},
   "outputs": [],
   "source": [
    "model = build_sequential_model([8, 16, 32, 64, 32, 16, len(train['Y'].unique())], ['relu', 'relu', 'relu', 'relu', 'relu', 'relu', 'softmax'], train.shape[1] - 1)"
   ]
  },
  {
   "cell_type": "code",
   "execution_count": 92,
   "id": "0558cc84",
   "metadata": {},
   "outputs": [
    {
     "name": "stdout",
     "output_type": "stream",
     "text": [
      "Model: \"sequential_9\"\n",
      "_________________________________________________________________\n",
      "Layer (type)                 Output Shape              Param #   \n",
      "=================================================================\n",
      "dense_62 (Dense)             (None, 8)                 3152      \n",
      "_________________________________________________________________\n",
      "dense_63 (Dense)             (None, 16)                144       \n",
      "_________________________________________________________________\n",
      "dense_64 (Dense)             (None, 32)                544       \n",
      "_________________________________________________________________\n",
      "dense_65 (Dense)             (None, 64)                2112      \n",
      "_________________________________________________________________\n",
      "dense_66 (Dense)             (None, 32)                2080      \n",
      "_________________________________________________________________\n",
      "dense_67 (Dense)             (None, 16)                528       \n",
      "_________________________________________________________________\n",
      "dense_68 (Dense)             (None, 10)                170       \n",
      "=================================================================\n",
      "Total params: 8,730\n",
      "Trainable params: 8,730\n",
      "Non-trainable params: 0\n",
      "_________________________________________________________________\n"
     ]
    }
   ],
   "source": [
    "model.summary()"
   ]
  },
  {
   "cell_type": "code",
   "execution_count": 96,
   "id": "a4995684",
   "metadata": {},
   "outputs": [],
   "source": [
    "loss_function = 'categorical_crossentropy'\n",
    "optimizer = 'adam'\n",
    "metrics = ['accuracy']"
   ]
  },
  {
   "cell_type": "code",
   "execution_count": 97,
   "id": "dc46f954",
   "metadata": {},
   "outputs": [],
   "source": [
    "model.compile(loss=loss_function, optimizer=optimizer, metrics=metrics)"
   ]
  },
  {
   "cell_type": "code",
   "execution_count": 98,
   "id": "25de0ff9",
   "metadata": {},
   "outputs": [
    {
     "name": "stdout",
     "output_type": "stream",
     "text": [
      "Epoch 1/150\n",
      "2400/2400 [==============================] - 4s 2ms/step - loss: 0.6666 - accuracy: 0.7792 - val_loss: 0.8951 - val_accuracy: 0.7185\n",
      "Epoch 2/150\n",
      "2400/2400 [==============================] - 5s 2ms/step - loss: 0.6561 - accuracy: 0.7810 - val_loss: 0.8250 - val_accuracy: 0.7370\n",
      "Epoch 3/150\n",
      "2400/2400 [==============================] - 4s 2ms/step - loss: 0.6530 - accuracy: 0.7824 - val_loss: 0.8160 - val_accuracy: 0.7355\n",
      "Epoch 4/150\n",
      "2400/2400 [==============================] - 4s 2ms/step - loss: 0.6502 - accuracy: 0.7838 - val_loss: 0.8185 - val_accuracy: 0.7388\n",
      "Epoch 5/150\n",
      "2400/2400 [==============================] - 4s 1ms/step - loss: 0.6417 - accuracy: 0.7869 - val_loss: 0.8408 - val_accuracy: 0.7340\n",
      "Epoch 6/150\n",
      "2400/2400 [==============================] - 4s 2ms/step - loss: 0.6439 - accuracy: 0.7862 - val_loss: 0.8501 - val_accuracy: 0.7375\n",
      "Epoch 7/150\n",
      "2400/2400 [==============================] - 4s 2ms/step - loss: 0.6391 - accuracy: 0.7875 - val_loss: 0.8371 - val_accuracy: 0.7342\n",
      "Epoch 8/150\n",
      "2400/2400 [==============================] - 4s 2ms/step - loss: 0.6379 - accuracy: 0.7868 - val_loss: 0.8351 - val_accuracy: 0.7288\n",
      "Epoch 9/150\n",
      "2400/2400 [==============================] - 4s 2ms/step - loss: 0.6331 - accuracy: 0.7889 - val_loss: 0.8331 - val_accuracy: 0.7367\n",
      "Epoch 10/150\n",
      "2400/2400 [==============================] - 4s 2ms/step - loss: 0.6279 - accuracy: 0.7915 - val_loss: 0.8129 - val_accuracy: 0.7352\n",
      "Epoch 11/150\n",
      "2400/2400 [==============================] - 4s 2ms/step - loss: 0.6269 - accuracy: 0.7915 - val_loss: 0.8320 - val_accuracy: 0.7315\n",
      "Epoch 12/150\n",
      "2400/2400 [==============================] - 4s 1ms/step - loss: 0.6240 - accuracy: 0.7912 - val_loss: 0.8104 - val_accuracy: 0.7442\n",
      "Epoch 13/150\n",
      "2400/2400 [==============================] - 4s 2ms/step - loss: 0.6235 - accuracy: 0.7930 - val_loss: 0.8459 - val_accuracy: 0.7327\n",
      "Epoch 14/150\n",
      "2400/2400 [==============================] - 4s 2ms/step - loss: 0.6216 - accuracy: 0.7899 - val_loss: 0.8296 - val_accuracy: 0.7412\n",
      "Epoch 15/150\n",
      "2400/2400 [==============================] - 4s 2ms/step - loss: 0.6185 - accuracy: 0.7950 - val_loss: 0.8211 - val_accuracy: 0.7390\n",
      "Epoch 16/150\n",
      "2400/2400 [==============================] - 4s 2ms/step - loss: 0.6173 - accuracy: 0.7911 - val_loss: 0.8185 - val_accuracy: 0.7375\n",
      "Epoch 17/150\n",
      "2400/2400 [==============================] - 5s 2ms/step - loss: 0.6126 - accuracy: 0.7940 - val_loss: 0.8211 - val_accuracy: 0.7383\n",
      "Epoch 18/150\n",
      "2400/2400 [==============================] - 4s 2ms/step - loss: 0.6058 - accuracy: 0.7997 - val_loss: 0.8597 - val_accuracy: 0.7407\n",
      "Epoch 19/150\n",
      "2400/2400 [==============================] - 4s 2ms/step - loss: 0.6076 - accuracy: 0.7960 - val_loss: 0.8383 - val_accuracy: 0.7393\n",
      "Epoch 20/150\n",
      "2400/2400 [==============================] - 4s 2ms/step - loss: 0.6065 - accuracy: 0.7968 - val_loss: 0.8240 - val_accuracy: 0.7428\n",
      "Epoch 21/150\n",
      "2400/2400 [==============================] - 4s 2ms/step - loss: 0.6016 - accuracy: 0.7975 - val_loss: 0.8731 - val_accuracy: 0.7328\n",
      "Epoch 22/150\n",
      "2400/2400 [==============================] - 4s 1ms/step - loss: 0.6064 - accuracy: 0.7984 - val_loss: 0.8411 - val_accuracy: 0.7348\n",
      "Epoch 23/150\n",
      "2400/2400 [==============================] - 4s 2ms/step - loss: 0.5982 - accuracy: 0.7998 - val_loss: 0.8326 - val_accuracy: 0.7413\n",
      "Epoch 24/150\n",
      "2400/2400 [==============================] - 4s 2ms/step - loss: 0.6040 - accuracy: 0.7955 - val_loss: 0.8280 - val_accuracy: 0.7440\n",
      "Epoch 25/150\n",
      "2400/2400 [==============================] - 4s 2ms/step - loss: 0.5990 - accuracy: 0.7991 - val_loss: 0.8230 - val_accuracy: 0.7413\n",
      "Epoch 26/150\n",
      "2400/2400 [==============================] - 4s 2ms/step - loss: 0.5915 - accuracy: 0.8001 - val_loss: 0.8268 - val_accuracy: 0.7390\n",
      "Epoch 27/150\n",
      "2400/2400 [==============================] - 4s 2ms/step - loss: 0.5895 - accuracy: 0.8020 - val_loss: 0.8395 - val_accuracy: 0.7393\n",
      "Epoch 28/150\n",
      "2400/2400 [==============================] - 4s 2ms/step - loss: 0.5953 - accuracy: 0.8013 - val_loss: 0.8282 - val_accuracy: 0.7435\n",
      "Epoch 29/150\n",
      "2400/2400 [==============================] - 4s 2ms/step - loss: 0.5865 - accuracy: 0.8019 - val_loss: 0.8429 - val_accuracy: 0.7378\n",
      "Epoch 30/150\n",
      "2400/2400 [==============================] - 3s 1ms/step - loss: 0.5888 - accuracy: 0.8033 - val_loss: 0.8754 - val_accuracy: 0.7247\n",
      "Epoch 31/150\n",
      "2400/2400 [==============================] - 4s 2ms/step - loss: 0.5869 - accuracy: 0.8011 - val_loss: 0.8615 - val_accuracy: 0.7378\n",
      "Epoch 32/150\n",
      "2400/2400 [==============================] - 5s 2ms/step - loss: 0.5865 - accuracy: 0.8013 - val_loss: 0.8715 - val_accuracy: 0.7342\n",
      "Epoch 33/150\n",
      "2400/2400 [==============================] - 5s 2ms/step - loss: 0.5806 - accuracy: 0.8054 - val_loss: 0.8774 - val_accuracy: 0.7347\n",
      "Epoch 34/150\n",
      "2400/2400 [==============================] - 4s 2ms/step - loss: 0.5821 - accuracy: 0.8048 - val_loss: 0.8338 - val_accuracy: 0.7395\n",
      "Epoch 35/150\n",
      "2400/2400 [==============================] - 4s 2ms/step - loss: 0.5753 - accuracy: 0.8065 - val_loss: 0.8469 - val_accuracy: 0.7470\n",
      "Epoch 36/150\n",
      "2400/2400 [==============================] - 4s 2ms/step - loss: 0.5799 - accuracy: 0.8064 - val_loss: 0.8934 - val_accuracy: 0.7258\n",
      "Epoch 37/150\n",
      "2400/2400 [==============================] - 4s 2ms/step - loss: 0.5756 - accuracy: 0.8061 - val_loss: 0.8518 - val_accuracy: 0.7418\n",
      "Epoch 38/150\n",
      "2400/2400 [==============================] - 4s 2ms/step - loss: 0.5765 - accuracy: 0.8045 - val_loss: 0.8337 - val_accuracy: 0.7447\n",
      "Epoch 39/150\n",
      "2400/2400 [==============================] - 4s 2ms/step - loss: 0.5718 - accuracy: 0.8094 - val_loss: 0.8419 - val_accuracy: 0.7413\n",
      "Epoch 40/150\n",
      "2400/2400 [==============================] - 4s 2ms/step - loss: 0.5747 - accuracy: 0.8083 - val_loss: 0.8619 - val_accuracy: 0.7367\n",
      "Epoch 41/150\n",
      "2400/2400 [==============================] - 5s 2ms/step - loss: 0.5728 - accuracy: 0.8079 - val_loss: 0.8501 - val_accuracy: 0.7405\n",
      "Epoch 42/150\n",
      "2400/2400 [==============================] - 4s 2ms/step - loss: 0.5719 - accuracy: 0.8087 - val_loss: 0.8275 - val_accuracy: 0.7433\n",
      "Epoch 43/150\n",
      "2400/2400 [==============================] - 4s 2ms/step - loss: 0.5672 - accuracy: 0.8138 - val_loss: 0.8432 - val_accuracy: 0.7442\n",
      "Epoch 44/150\n",
      "2400/2400 [==============================] - 4s 2ms/step - loss: 0.5669 - accuracy: 0.8087 - val_loss: 0.8650 - val_accuracy: 0.7375\n",
      "Epoch 45/150\n",
      "2400/2400 [==============================] - 4s 2ms/step - loss: 0.5629 - accuracy: 0.8110 - val_loss: 0.8493 - val_accuracy: 0.7370\n",
      "Epoch 46/150\n",
      "2400/2400 [==============================] - 4s 2ms/step - loss: 0.5669 - accuracy: 0.8109 - val_loss: 0.8529 - val_accuracy: 0.7398\n",
      "Epoch 47/150\n",
      "2400/2400 [==============================] - 5s 2ms/step - loss: 0.5609 - accuracy: 0.8116 - val_loss: 0.8545 - val_accuracy: 0.7435\n",
      "Epoch 48/150\n",
      "2400/2400 [==============================] - 4s 2ms/step - loss: 0.5612 - accuracy: 0.8104 - val_loss: 0.8502 - val_accuracy: 0.7422\n",
      "Epoch 49/150\n",
      "2400/2400 [==============================] - 4s 2ms/step - loss: 0.5589 - accuracy: 0.8132 - val_loss: 0.8879 - val_accuracy: 0.7340\n",
      "Epoch 50/150\n",
      "2400/2400 [==============================] - 4s 2ms/step - loss: 0.5588 - accuracy: 0.8130 - val_loss: 0.8677 - val_accuracy: 0.7400\n",
      "Epoch 51/150\n",
      "2400/2400 [==============================] - 4s 2ms/step - loss: 0.5562 - accuracy: 0.8125 - val_loss: 0.8614 - val_accuracy: 0.7408\n",
      "Epoch 52/150\n",
      "2400/2400 [==============================] - 4s 2ms/step - loss: 0.5523 - accuracy: 0.8143 - val_loss: 0.8419 - val_accuracy: 0.7447\n",
      "Epoch 53/150\n",
      "2400/2400 [==============================] - 4s 2ms/step - loss: 0.5557 - accuracy: 0.8116 - val_loss: 0.8439 - val_accuracy: 0.7457\n",
      "Epoch 54/150\n",
      "2400/2400 [==============================] - 4s 2ms/step - loss: 0.5564 - accuracy: 0.8149 - val_loss: 0.9012 - val_accuracy: 0.7253\n",
      "Epoch 55/150\n",
      "2400/2400 [==============================] - 4s 2ms/step - loss: 0.5521 - accuracy: 0.8133 - val_loss: 0.8591 - val_accuracy: 0.7442\n",
      "Epoch 56/150\n",
      "2400/2400 [==============================] - 4s 2ms/step - loss: 0.5510 - accuracy: 0.8140 - val_loss: 0.8832 - val_accuracy: 0.7353\n",
      "Epoch 57/150\n"
     ]
    },
    {
     "name": "stdout",
     "output_type": "stream",
     "text": [
      "2400/2400 [==============================] - 4s 2ms/step - loss: 0.5467 - accuracy: 0.8154 - val_loss: 0.8487 - val_accuracy: 0.7428\n",
      "Epoch 58/150\n",
      "2400/2400 [==============================] - 4s 2ms/step - loss: 0.5516 - accuracy: 0.8155 - val_loss: 0.8557 - val_accuracy: 0.7478\n",
      "Epoch 59/150\n",
      "2400/2400 [==============================] - 4s 2ms/step - loss: 0.5456 - accuracy: 0.8165 - val_loss: 0.8660 - val_accuracy: 0.7453\n",
      "Epoch 60/150\n",
      "2400/2400 [==============================] - 5s 2ms/step - loss: 0.5459 - accuracy: 0.8150 - val_loss: 0.9298 - val_accuracy: 0.7262\n",
      "Epoch 61/150\n",
      "2400/2400 [==============================] - 4s 2ms/step - loss: 0.5489 - accuracy: 0.8145 - val_loss: 0.8689 - val_accuracy: 0.7445\n",
      "Epoch 62/150\n",
      "2400/2400 [==============================] - 5s 2ms/step - loss: 0.5440 - accuracy: 0.8166 - val_loss: 0.8647 - val_accuracy: 0.7438\n",
      "Epoch 63/150\n",
      "2400/2400 [==============================] - 4s 2ms/step - loss: 0.5441 - accuracy: 0.8182 - val_loss: 0.8792 - val_accuracy: 0.7383\n",
      "Epoch 64/150\n",
      "2400/2400 [==============================] - 4s 2ms/step - loss: 0.5487 - accuracy: 0.8148 - val_loss: 0.8624 - val_accuracy: 0.7375\n",
      "Epoch 65/150\n",
      "2400/2400 [==============================] - 4s 2ms/step - loss: 0.5397 - accuracy: 0.8168 - val_loss: 0.9167 - val_accuracy: 0.7322\n",
      "Epoch 66/150\n",
      "2400/2400 [==============================] - 4s 2ms/step - loss: 0.5414 - accuracy: 0.8159 - val_loss: 0.8979 - val_accuracy: 0.7302\n",
      "Epoch 67/150\n",
      "2400/2400 [==============================] - 4s 1ms/step - loss: 0.5420 - accuracy: 0.8141 - val_loss: 0.8864 - val_accuracy: 0.7372\n",
      "Epoch 68/150\n",
      "2400/2400 [==============================] - 3s 1ms/step - loss: 0.5392 - accuracy: 0.8183 - val_loss: 0.8782 - val_accuracy: 0.7313\n",
      "Epoch 69/150\n",
      "2400/2400 [==============================] - 4s 2ms/step - loss: 0.5308 - accuracy: 0.8215 - val_loss: 0.9013 - val_accuracy: 0.7315\n",
      "Epoch 70/150\n",
      "2400/2400 [==============================] - 4s 2ms/step - loss: 0.5361 - accuracy: 0.8182 - val_loss: 0.8847 - val_accuracy: 0.7397\n",
      "Epoch 71/150\n",
      "2400/2400 [==============================] - 4s 2ms/step - loss: 0.5353 - accuracy: 0.8208 - val_loss: 0.8570 - val_accuracy: 0.7402\n",
      "Epoch 72/150\n",
      "2400/2400 [==============================] - 4s 2ms/step - loss: 0.5362 - accuracy: 0.8204 - val_loss: 0.9288 - val_accuracy: 0.7135\n",
      "Epoch 73/150\n",
      "2400/2400 [==============================] - 4s 2ms/step - loss: 0.5351 - accuracy: 0.8181 - val_loss: 0.8816 - val_accuracy: 0.7415\n",
      "Epoch 74/150\n",
      "2400/2400 [==============================] - 4s 2ms/step - loss: 0.5294 - accuracy: 0.8208 - val_loss: 0.8781 - val_accuracy: 0.7403\n",
      "Epoch 75/150\n",
      "2400/2400 [==============================] - 4s 2ms/step - loss: 0.5319 - accuracy: 0.8169 - val_loss: 0.9028 - val_accuracy: 0.7332\n",
      "Epoch 76/150\n",
      "2400/2400 [==============================] - 6s 2ms/step - loss: 0.5316 - accuracy: 0.8196 - val_loss: 0.9158 - val_accuracy: 0.7277\n",
      "Epoch 77/150\n",
      "2400/2400 [==============================] - 8s 3ms/step - loss: 0.5282 - accuracy: 0.8228 - val_loss: 0.8956 - val_accuracy: 0.7388\n",
      "Epoch 78/150\n",
      "2400/2400 [==============================] - 6s 3ms/step - loss: 0.5294 - accuracy: 0.8204 - val_loss: 0.8700 - val_accuracy: 0.7430\n",
      "Epoch 79/150\n",
      "2400/2400 [==============================] - 4s 2ms/step - loss: 0.5272 - accuracy: 0.8215 - val_loss: 0.9211 - val_accuracy: 0.7358\n",
      "Epoch 80/150\n",
      "2400/2400 [==============================] - 5s 2ms/step - loss: 0.5295 - accuracy: 0.8205 - val_loss: 0.8945 - val_accuracy: 0.7365\n",
      "Epoch 81/150\n",
      "2400/2400 [==============================] - 5s 2ms/step - loss: 0.5223 - accuracy: 0.8252 - val_loss: 0.8894 - val_accuracy: 0.7395\n",
      "Epoch 82/150\n",
      "2400/2400 [==============================] - 4s 2ms/step - loss: 0.5220 - accuracy: 0.8257 - val_loss: 0.8846 - val_accuracy: 0.7385\n",
      "Epoch 83/150\n",
      "2400/2400 [==============================] - 6s 3ms/step - loss: 0.5240 - accuracy: 0.8220 - val_loss: 0.8936 - val_accuracy: 0.7362\n",
      "Epoch 84/150\n",
      "2400/2400 [==============================] - 8s 3ms/step - loss: 0.5248 - accuracy: 0.8227 - val_loss: 0.8630 - val_accuracy: 0.7385\n",
      "Epoch 85/150\n",
      "2400/2400 [==============================] - 6s 3ms/step - loss: 0.5224 - accuracy: 0.8227 - val_loss: 0.9309 - val_accuracy: 0.7355\n",
      "Epoch 86/150\n",
      "2400/2400 [==============================] - 6s 3ms/step - loss: 0.5243 - accuracy: 0.8235 - val_loss: 0.9021 - val_accuracy: 0.7343\n",
      "Epoch 87/150\n",
      "2400/2400 [==============================] - 6s 2ms/step - loss: 0.5248 - accuracy: 0.8227 - val_loss: 0.8900 - val_accuracy: 0.7447\n",
      "Epoch 88/150\n",
      "2400/2400 [==============================] - 5s 2ms/step - loss: 0.5200 - accuracy: 0.8249 - val_loss: 0.8879 - val_accuracy: 0.7373\n",
      "Epoch 89/150\n",
      "2400/2400 [==============================] - 5s 2ms/step - loss: 0.5152 - accuracy: 0.8242 - val_loss: 0.9230 - val_accuracy: 0.7370\n",
      "Epoch 90/150\n",
      "2400/2400 [==============================] - 4s 2ms/step - loss: 0.5178 - accuracy: 0.8261 - val_loss: 0.9019 - val_accuracy: 0.7322\n",
      "Epoch 91/150\n",
      "2400/2400 [==============================] - 5s 2ms/step - loss: 0.5190 - accuracy: 0.8221 - val_loss: 0.9109 - val_accuracy: 0.7365\n",
      "Epoch 92/150\n",
      "2400/2400 [==============================] - 6s 2ms/step - loss: 0.5167 - accuracy: 0.8257 - val_loss: 0.9346 - val_accuracy: 0.7338\n",
      "Epoch 93/150\n",
      "2400/2400 [==============================] - 5s 2ms/step - loss: 0.5174 - accuracy: 0.8236 - val_loss: 0.9427 - val_accuracy: 0.7278\n",
      "Epoch 94/150\n",
      "2400/2400 [==============================] - 4s 2ms/step - loss: 0.5206 - accuracy: 0.8245 - val_loss: 0.9355 - val_accuracy: 0.7258\n",
      "Epoch 95/150\n",
      "2400/2400 [==============================] - 3s 1ms/step - loss: 0.5179 - accuracy: 0.8250 - val_loss: 0.9423 - val_accuracy: 0.7275\n",
      "Epoch 96/150\n",
      "2400/2400 [==============================] - 4s 2ms/step - loss: 0.5129 - accuracy: 0.8240 - val_loss: 0.9046 - val_accuracy: 0.7382\n",
      "Epoch 97/150\n",
      "2400/2400 [==============================] - 4s 2ms/step - loss: 0.5159 - accuracy: 0.8272 - val_loss: 0.9451 - val_accuracy: 0.7297\n",
      "Epoch 98/150\n",
      "2400/2400 [==============================] - 4s 2ms/step - loss: 0.5206 - accuracy: 0.8230 - val_loss: 0.9156 - val_accuracy: 0.7367\n",
      "Epoch 99/150\n",
      "2400/2400 [==============================] - 4s 2ms/step - loss: 0.5133 - accuracy: 0.8276 - val_loss: 0.8937 - val_accuracy: 0.7395\n",
      "Epoch 100/150\n",
      "2400/2400 [==============================] - 4s 2ms/step - loss: 0.5105 - accuracy: 0.8262 - val_loss: 0.8899 - val_accuracy: 0.7367\n",
      "Epoch 101/150\n",
      "2400/2400 [==============================] - 5s 2ms/step - loss: 0.5089 - accuracy: 0.8247 - val_loss: 0.9001 - val_accuracy: 0.7383\n",
      "Epoch 102/150\n",
      "2400/2400 [==============================] - 6s 2ms/step - loss: 0.5147 - accuracy: 0.8251 - val_loss: 0.8875 - val_accuracy: 0.7358\n",
      "Epoch 103/150\n",
      "2400/2400 [==============================] - 4s 2ms/step - loss: 0.5063 - accuracy: 0.8282 - val_loss: 0.9764 - val_accuracy: 0.7258\n",
      "Epoch 104/150\n",
      "2400/2400 [==============================] - 4s 2ms/step - loss: 0.5124 - accuracy: 0.8248 - val_loss: 0.9415 - val_accuracy: 0.7280\n",
      "Epoch 105/150\n",
      "2400/2400 [==============================] - 4s 2ms/step - loss: 0.5069 - accuracy: 0.8283 - val_loss: 0.9243 - val_accuracy: 0.7333\n",
      "Epoch 106/150\n",
      "2400/2400 [==============================] - 5s 2ms/step - loss: 0.5130 - accuracy: 0.8268 - val_loss: 0.9120 - val_accuracy: 0.7393\n",
      "Epoch 107/150\n",
      "2400/2400 [==============================] - 4s 2ms/step - loss: 0.5047 - accuracy: 0.8303 - val_loss: 0.8958 - val_accuracy: 0.7352\n",
      "Epoch 108/150\n",
      "2400/2400 [==============================] - 4s 2ms/step - loss: 0.5144 - accuracy: 0.8249 - val_loss: 0.9102 - val_accuracy: 0.7315\n",
      "Epoch 109/150\n",
      "2400/2400 [==============================] - 4s 2ms/step - loss: 0.5061 - accuracy: 0.8272 - val_loss: 0.9084 - val_accuracy: 0.7392\n",
      "Epoch 110/150\n",
      "2400/2400 [==============================] - 4s 2ms/step - loss: 0.5056 - accuracy: 0.8271 - val_loss: 0.9008 - val_accuracy: 0.7378\n",
      "Epoch 111/150\n",
      "2400/2400 [==============================] - 5s 2ms/step - loss: 0.5033 - accuracy: 0.8296 - val_loss: 0.9548 - val_accuracy: 0.7377\n",
      "Epoch 112/150\n",
      "2400/2400 [==============================] - 4s 2ms/step - loss: 0.5043 - accuracy: 0.8296 - val_loss: 0.9254 - val_accuracy: 0.7340\n",
      "Epoch 113/150\n"
     ]
    },
    {
     "name": "stdout",
     "output_type": "stream",
     "text": [
      "2400/2400 [==============================] - 4s 2ms/step - loss: 0.5089 - accuracy: 0.8306 - val_loss: 0.9318 - val_accuracy: 0.7295\n",
      "Epoch 114/150\n",
      "2400/2400 [==============================] - 5s 2ms/step - loss: 0.5035 - accuracy: 0.8291 - val_loss: 0.9650 - val_accuracy: 0.7305\n",
      "Epoch 115/150\n",
      "2400/2400 [==============================] - 7s 3ms/step - loss: 0.5026 - accuracy: 0.8307 - val_loss: 0.9570 - val_accuracy: 0.7362\n",
      "Epoch 116/150\n",
      "2400/2400 [==============================] - 6s 3ms/step - loss: 0.5043 - accuracy: 0.8286 - val_loss: 0.9192 - val_accuracy: 0.7402\n",
      "Epoch 117/150\n",
      "2400/2400 [==============================] - 4s 2ms/step - loss: 0.5047 - accuracy: 0.8264 - val_loss: 0.9013 - val_accuracy: 0.7378\n",
      "Epoch 118/150\n",
      "2400/2400 [==============================] - 3s 1ms/step - loss: 0.5002 - accuracy: 0.8316 - val_loss: 0.9346 - val_accuracy: 0.7345\n",
      "Epoch 119/150\n",
      "2400/2400 [==============================] - 4s 1ms/step - loss: 0.5047 - accuracy: 0.8281 - val_loss: 0.9800 - val_accuracy: 0.7310\n",
      "Epoch 120/150\n",
      "2400/2400 [==============================] - 3s 1ms/step - loss: 0.5003 - accuracy: 0.8290 - val_loss: 0.9403 - val_accuracy: 0.7287\n",
      "Epoch 121/150\n",
      "2400/2400 [==============================] - 3s 1ms/step - loss: 0.4973 - accuracy: 0.8305 - val_loss: 0.9062 - val_accuracy: 0.7355\n",
      "Epoch 122/150\n",
      "2400/2400 [==============================] - 3s 1ms/step - loss: 0.4973 - accuracy: 0.8309 - val_loss: 0.9469 - val_accuracy: 0.7330\n",
      "Epoch 123/150\n",
      "2400/2400 [==============================] - 4s 1ms/step - loss: 0.5025 - accuracy: 0.8277 - val_loss: 0.9215 - val_accuracy: 0.7363\n",
      "Epoch 124/150\n",
      "2400/2400 [==============================] - 3s 1ms/step - loss: 0.5024 - accuracy: 0.8288 - val_loss: 0.9579 - val_accuracy: 0.7325\n",
      "Epoch 125/150\n",
      "2400/2400 [==============================] - 3s 1ms/step - loss: 0.4930 - accuracy: 0.8319 - val_loss: 0.9313 - val_accuracy: 0.7368\n",
      "Epoch 126/150\n",
      "2400/2400 [==============================] - 3s 1ms/step - loss: 0.4986 - accuracy: 0.8304 - val_loss: 0.9732 - val_accuracy: 0.7308\n",
      "Epoch 127/150\n",
      "2400/2400 [==============================] - 3s 1ms/step - loss: 0.4949 - accuracy: 0.8283 - val_loss: 0.9176 - val_accuracy: 0.7265\n",
      "Epoch 128/150\n",
      "2400/2400 [==============================] - 3s 1ms/step - loss: 0.5050 - accuracy: 0.8302 - val_loss: 0.9447 - val_accuracy: 0.7383\n",
      "Epoch 129/150\n",
      "2400/2400 [==============================] - 4s 1ms/step - loss: 0.4971 - accuracy: 0.8324 - val_loss: 0.9979 - val_accuracy: 0.7248\n",
      "Epoch 130/150\n",
      "2400/2400 [==============================] - 4s 2ms/step - loss: 0.4942 - accuracy: 0.8320 - val_loss: 0.9187 - val_accuracy: 0.7367s: 0.4\n",
      "Epoch 131/150\n",
      "2400/2400 [==============================] - 3s 1ms/step - loss: 0.4971 - accuracy: 0.8307 - val_loss: 0.9409 - val_accuracy: 0.7322\n",
      "Epoch 132/150\n",
      "2400/2400 [==============================] - 3s 1ms/step - loss: 0.4966 - accuracy: 0.8308 - val_loss: 0.9472 - val_accuracy: 0.7355\n",
      "Epoch 133/150\n",
      "2400/2400 [==============================] - 3s 1ms/step - loss: 0.4955 - accuracy: 0.8303 - val_loss: 0.9199 - val_accuracy: 0.7283\n",
      "Epoch 134/150\n",
      "2400/2400 [==============================] - 3s 1ms/step - loss: 0.4968 - accuracy: 0.8310 - val_loss: 0.9412 - val_accuracy: 0.7323\n",
      "Epoch 135/150\n",
      "2400/2400 [==============================] - 3s 1ms/step - loss: 0.4937 - accuracy: 0.8317 - val_loss: 0.9493 - val_accuracy: 0.7355\n",
      "Epoch 136/150\n",
      "2400/2400 [==============================] - 4s 1ms/step - loss: 0.4938 - accuracy: 0.8307 - val_loss: 0.9395 - val_accuracy: 0.7315\n",
      "Epoch 137/150\n",
      "2400/2400 [==============================] - 3s 1ms/step - loss: 0.4920 - accuracy: 0.8320 - val_loss: 0.9296 - val_accuracy: 0.7325\n",
      "Epoch 138/150\n",
      "2400/2400 [==============================] - 3s 1ms/step - loss: 0.4918 - accuracy: 0.8328 - val_loss: 0.9377 - val_accuracy: 0.7407\n",
      "Epoch 139/150\n",
      "2400/2400 [==============================] - 3s 1ms/step - loss: 0.4886 - accuracy: 0.8328 - val_loss: 0.9496 - val_accuracy: 0.7338\n",
      "Epoch 140/150\n",
      "2400/2400 [==============================] - 3s 1ms/step - loss: 0.5011 - accuracy: 0.8284 - val_loss: 0.9622 - val_accuracy: 0.7332\n",
      "Epoch 141/150\n",
      "2400/2400 [==============================] - 3s 1ms/step - loss: 0.4939 - accuracy: 0.8327 - val_loss: 0.9308 - val_accuracy: 0.7362\n",
      "Epoch 142/150\n",
      "2400/2400 [==============================] - 3s 1ms/step - loss: 0.4908 - accuracy: 0.8332 - val_loss: 0.9862 - val_accuracy: 0.7317\n",
      "Epoch 143/150\n",
      "2400/2400 [==============================] - 3s 1ms/step - loss: 0.4896 - accuracy: 0.8325 - val_loss: 0.9663 - val_accuracy: 0.7235\n",
      "Epoch 144/150\n",
      "2400/2400 [==============================] - 3s 1ms/step - loss: 0.4890 - accuracy: 0.8338 - val_loss: 0.9251 - val_accuracy: 0.7368\n",
      "Epoch 145/150\n",
      "2400/2400 [==============================] - 3s 1ms/step - loss: 0.4896 - accuracy: 0.8338 - val_loss: 0.9468 - val_accuracy: 0.7330\n",
      "Epoch 146/150\n",
      "2400/2400 [==============================] - 3s 1ms/step - loss: 0.4954 - accuracy: 0.8304 - val_loss: 0.9264 - val_accuracy: 0.7357\n",
      "Epoch 147/150\n",
      "2400/2400 [==============================] - 4s 2ms/step - loss: 0.4835 - accuracy: 0.8375 - val_loss: 0.9826 - val_accuracy: 0.7340\n",
      "Epoch 148/150\n",
      "2400/2400 [==============================] - 4s 2ms/step - loss: 0.4885 - accuracy: 0.8318 - val_loss: 0.9614 - val_accuracy: 0.7297\n",
      "Epoch 149/150\n",
      "2400/2400 [==============================] - 3s 1ms/step - loss: 0.4872 - accuracy: 0.8330 - val_loss: 0.9743 - val_accuracy: 0.7323\n",
      "Epoch 150/150\n",
      "2400/2400 [==============================] - 3s 1ms/step - loss: 0.4881 - accuracy: 0.8345 - val_loss: 0.9236 - val_accuracy: 0.7345\n"
     ]
    },
    {
     "data": {
      "text/plain": [
       "<tensorflow.python.keras.callbacks.History at 0x296c6682400>"
      ]
     },
     "execution_count": 98,
     "metadata": {},
     "output_type": "execute_result"
    }
   ],
   "source": [
    "model.fit(X_train, Y_train, epochs=150, batch_size=10, validation_data=(X_val, Y_val))"
   ]
  },
  {
   "cell_type": "code",
   "execution_count": 99,
   "id": "0dc944db",
   "metadata": {},
   "outputs": [],
   "source": [
    "test = pd.read_csv('data/test.csv')"
   ]
  },
  {
   "cell_type": "code",
   "execution_count": 105,
   "id": "7d99e577",
   "metadata": {},
   "outputs": [],
   "source": [
    "X_test = test.drop('Y', axis=1).values\n",
    "X_test = X_test / X.max(axis=0)\n",
    "Y_test = test['Y'].values\n",
    "Y_test = to_categorical(Y_test, num_classes=len(train['Y'].unique()))"
   ]
  },
  {
   "cell_type": "code",
   "execution_count": 106,
   "id": "0ec5d417",
   "metadata": {},
   "outputs": [
    {
     "data": {
      "text/plain": [
       "array([[2.24903533e-06, 1.69204082e-08, 9.43366249e-05, ...,\n",
       "        1.26186706e-05, 2.81718931e-05, 2.23361771e-04],\n",
       "       [7.66421301e-11, 0.00000000e+00, 2.37799043e-07, ...,\n",
       "        9.99999762e-01, 4.16972284e-13, 8.18170864e-09],\n",
       "       [1.08409976e-03, 4.08006963e-05, 4.52580098e-05, ...,\n",
       "        9.40595874e-06, 8.22329760e-01, 1.30357558e-03],\n",
       "       ...,\n",
       "       [3.91697171e-07, 8.55680327e-08, 4.91253624e-04, ...,\n",
       "        2.93946825e-03, 4.35386813e-04, 3.64189148e-01],\n",
       "       [1.85067542e-02, 4.65662219e-04, 1.21764384e-01, ...,\n",
       "        1.34244468e-02, 7.04034343e-02, 1.94000080e-01],\n",
       "       [1.02602198e-05, 1.21263213e-06, 9.63832208e-05, ...,\n",
       "        2.02121772e-02, 2.75715865e-06, 8.63748323e-03]], dtype=float32)"
      ]
     },
     "execution_count": 106,
     "metadata": {},
     "output_type": "execute_result"
    }
   ],
   "source": [
    "model.predict(X_test)"
   ]
  },
  {
   "cell_type": "code",
   "execution_count": 107,
   "id": "725777f1",
   "metadata": {},
   "outputs": [
    {
     "name": "stdout",
     "output_type": "stream",
     "text": [
      "313/313 [==============================] - 1s 3ms/step - loss: 1.5676 - accuracy: 0.6081\n"
     ]
    },
    {
     "data": {
      "text/plain": [
       "[1.5676143169403076, 0.6080999970436096]"
      ]
     },
     "execution_count": 107,
     "metadata": {},
     "output_type": "execute_result"
    }
   ],
   "source": [
    "model.evaluate(X_test, Y_test)"
   ]
  },
  {
   "cell_type": "code",
   "execution_count": null,
   "id": "e048e936",
   "metadata": {},
   "outputs": [],
   "source": []
  }
 ],
 "metadata": {
  "kernelspec": {
   "display_name": "Python 3",
   "language": "python",
   "name": "python3"
  },
  "language_info": {
   "codemirror_mode": {
    "name": "ipython",
    "version": 3
   },
   "file_extension": ".py",
   "mimetype": "text/x-python",
   "name": "python",
   "nbconvert_exporter": "python",
   "pygments_lexer": "ipython3",
   "version": "3.8.3"
  }
 },
 "nbformat": 4,
 "nbformat_minor": 5
}
